{
  "nbformat": 4,
  "nbformat_minor": 0,
  "metadata": {
    "colab": {
      "provenance": []
    },
    "kernelspec": {
      "name": "python3",
      "display_name": "Python 3"
    },
    "language_info": {
      "name": "python"
    }
  },
  "cells": [
    {
      "cell_type": "markdown",
      "source": [
        "# Disease Propagation - Monte Carlo Experiment"
      ],
      "metadata": {
        "id": "H-HRheUCc2Ut"
      }
    },
    {
      "cell_type": "markdown",
      "source": [
        "In this experiment I'll demonsrate the predictive prowess of the Monte Carlo method. With Covid-19 in the rear view mirror, it felt relevant doing an experiment which simulates the propagation of a disease in a population."
      ],
      "metadata": {
        "id": "HJ-xPEbop7IT"
      }
    },
    {
      "cell_type": "code",
      "execution_count": null,
      "metadata": {
        "id": "NFrPsGywpxS2"
      },
      "outputs": [],
      "source": [
        "import pandas as pd\n",
        "import random\n",
        "import matplotlib.pyplot as plt\n",
        "import matplotlib as mpl\n",
        "import seaborn as sns\n",
        "\n",
        "STATUS_VULNERABLE = 'vulnerable'\n",
        "STATUS_INFECTED = 'infected'\n",
        "STATUS_RECOVERED = 'recovered'\n",
        "STATUS_DEAD = 'dead'"
      ]
    },
    {
      "cell_type": "markdown",
      "source": [
        "### Part 1 - Main experiment flow"
      ],
      "metadata": {
        "id": "_CDuKelcdAiC"
      }
    },
    {
      "cell_type": "markdown",
      "source": [
        "\n",
        "A way to represent a spread of disease is to model each stage a person can have as a \"state\" and have fixed estimated probabilities to transfer from each stage to another. A Markov Model can make sense here. "
      ],
      "metadata": {
        "id": "McOhi1knrWEw"
      }
    },
    {
      "cell_type": "code",
      "source": [
        "class Person:\n",
        "    def __init__(self, status=STATUS_VULNERABLE, days_of_status=0):\n",
        "        self._status = status\n",
        "        self._days_of_status = days_of_status\n",
        "\n",
        "    @property\n",
        "    def status(self):\n",
        "      return self._status\n",
        "    \n",
        "    @property\n",
        "    def days_of_status(self):\n",
        "      return self._days_of_status\n",
        "\n",
        "    def set_status(self, x):\n",
        "      self._status = x\n",
        "\n",
        "    def set_days_of_status(self, x):\n",
        "      self._days_of_status = x"
      ],
      "metadata": {
        "id": "TVOHyb7lr-ez"
      },
      "execution_count": null,
      "outputs": []
    },
    {
      "cell_type": "markdown",
      "source": [
        "The simulation runs for a year where:\n",
        "- Each infected person has 7% percent chance to infect a single person and 4% chance to infect two people.\n",
        "\n",
        "- After 9 days, each infected person has 1% chance to die and 30% chance to recover every day.\n",
        "\n",
        "- Recovered people cannot get sick again."
      ],
      "metadata": {
        "id": "8WbV2P65tepR"
      }
    },
    {
      "cell_type": "code",
      "source": [
        "def simulation(num_people):\n",
        "\n",
        "    # essentially queues to move people around the states\n",
        "    person_types = dict()\n",
        "    person_types['vulnerables'] = [Person()]*(num_people - 1)\n",
        "    person_types['infected'] = [Person()]\n",
        "    person_types['recovered'] = list()\n",
        "    person_types['dead'] = list()\n",
        "\n",
        "    # track amount of people of each states\n",
        "    person_trackers = dict()\n",
        "    person_trackers['vulnerables'] = [num_people - 1]\n",
        "    person_trackers['infected'] = [1]\n",
        "    person_trackers['recovered'] = [0]\n",
        "    person_trackers['dead'] = [0]\n",
        "\n",
        "    # starting on day 1, day 0 is the starting data in the lists\n",
        "    curr_day = 1\n",
        "\n",
        "    while curr_day < 365:\n",
        "        amount_of_people_recovered_today = 0\n",
        "        amount_of_people_died_today = 0\n",
        "        amount_of_people_infected_today = 0\n",
        "\n",
        "        # each day, any change has something to do with the infected people\n",
        "        for infected_person in person_types['infected']:   \n",
        "            if curr_day - infected_person.days_of_status >= 10:\n",
        "                not_sick_anymore_prob = random.randint(1, 100)\n",
        "                if not_sick_anymore_prob == 1:\n",
        "                    amount_of_people_died_today += 1\n",
        "                    continue\n",
        "                elif 2 <= not_sick_anymore_prob <= 31:\n",
        "                    amount_of_people_recovered_today += 1\n",
        "                    continue\n",
        "\n",
        "            # if the infected is still infected, he/she could infect others\n",
        "            infection_prob = random.randint(1, 100)\n",
        "            if infection_prob <= 4:\n",
        "                amount_of_people_infected_today += 2\n",
        "            elif 5 <= infection_prob <= 11:\n",
        "                amount_of_people_infected_today += 1\n",
        "\n",
        "        # update trackers for status changes today\n",
        "        if amount_of_people_infected_today > 0:\n",
        "            for _ in range(amount_of_people_infected_today):\n",
        "                if len(person_types['vulnerables']) > 0:\n",
        "                    infectee = person_types['vulnerables'].pop()\n",
        "                    infectee.set_days_of_status(curr_day)\n",
        "                    person_types['infected'].append(infectee)\n",
        "\n",
        "        if amount_of_people_recovered_today > 0:\n",
        "            for _ in range(amount_of_people_recovered_today):\n",
        "                if len(person_types['infected']) > 0:\n",
        "                    recoveree = person_types['infected'].pop()\n",
        "                    person_types['recovered'].append(recoveree)\n",
        "\n",
        "        if amount_of_people_died_today > 0:\n",
        "            for _ in range(amount_of_people_died_today):\n",
        "                if len(person_types['infected']) > 0:\n",
        "                    died = person_types['infected'].pop()\n",
        "                    person_types['dead'].append(died)\n",
        "\n",
        "        # append count to the trackers to keep continuous information of the count in each status group\n",
        "        person_trackers['vulnerables'].append(len(person_types['vulnerables']))\n",
        "        person_trackers['infected'].append(len(person_types['infected']))\n",
        "        person_trackers['recovered'].append((len(person_types['recovered'])))\n",
        "        person_trackers['dead'].append(len(person_types['dead']))\n",
        "\n",
        "        curr_day += 1\n",
        "\n",
        "    return person_trackers"
      ],
      "metadata": {
        "id": "GWeeFLQttPic"
      },
      "execution_count": null,
      "outputs": []
    },
    {
      "cell_type": "code",
      "source": [
        "def plot_simulation(num_people):\n",
        "    person_trackers = simulation(num_people)\n",
        "\n",
        "    # show first 10 days\n",
        "    print(pd.DataFrame(person_trackers).head(10))      \n",
        "    print('\\n\\n')\n",
        "\n",
        "    # plot amount of vulnerable people for a year\n",
        "    df = pd.DataFrame(person_trackers.pop('vulnerables'))\n",
        "    plt.figure(figsize=(7,12))\n",
        "    df.plot.line()\n",
        "    plt.title('Virus Propagation Example')\n",
        "    plt.xlabel('Days')\n",
        "    plt.ylabel('Amount of Vulnerable People')\n",
        "    plt.show()"
      ],
      "metadata": {
        "id": "0JrhroOj4JV5"
      },
      "execution_count": 96,
      "outputs": []
    },
    {
      "cell_type": "markdown",
      "source": [
        "Now we can plot a single simulation of the disease propagation"
      ],
      "metadata": {
        "id": "Jiu-coys87mX"
      }
    },
    {
      "cell_type": "code",
      "source": [
        "plot_simulation(100)"
      ],
      "metadata": {
        "colab": {
          "base_uri": "https://localhost:8080/",
          "height": 555
        },
        "id": "-J9Qtm2r42yV",
        "outputId": "f9cc0aab-7244-429f-dbb5-bb1eb3ee7de5"
      },
      "execution_count": 97,
      "outputs": [
        {
          "output_type": "stream",
          "name": "stdout",
          "text": [
            "   vulnerables  infected  recovered  dead\n",
            "0           99         1          0     0\n",
            "1           99         1          0     0\n",
            "2           99         1          0     0\n",
            "3           97         3          0     0\n",
            "4           97         3          0     0\n",
            "5           97         3          0     0\n",
            "6           95         5          0     0\n",
            "7           95         5          0     0\n",
            "8           94         6          0     0\n",
            "9           92         8          0     0\n",
            "\n",
            "\n",
            "\n"
          ]
        },
        {
          "output_type": "display_data",
          "data": {
            "text/plain": [
              "<Figure size 504x864 with 0 Axes>"
            ]
          },
          "metadata": {}
        },
        {
          "output_type": "display_data",
          "data": {
            "text/plain": [
              "<Figure size 432x288 with 1 Axes>"
            ],
            "image/png": "[encoded data removed]"
          },
          "metadata": {
            "needs_background": "light"
          }
        }
      ]
    },
    {
      "cell_type": "markdown",
      "source": [
        "### Part 2 - Monte Carlo "
      ],
      "metadata": {
        "id": "KQFWHVn8dsUS"
      }
    },
    {
      "cell_type": "markdown",
      "source": [
        "Next, let's check out interesting statistics and predictions that can be derived from running the experiment 100 times.\n",
        "\n",
        "The power of using Monte Carlo is that we have the ability ot run X different experiments where the variables derive from the same distribution, therefore we have created a dataset of 100 random samples on which we can draw conclusions and prediction boundaries "
      ],
      "metadata": {
        "id": "jkDTdA_dExnD"
      }
    },
    {
      "cell_type": "code",
      "source": [
        "# initialize variables\n",
        "NUM_EXPERIMENTS = 100\n",
        "NUM_PEOPLE = 10000\n",
        "total_dead_on_day_100 = 0\n",
        "total_recovered_on_day_100 = 0\n",
        "percentage_infected_today_or_before = [x * 0 for x in range(NUM_EXPERIMENTS + 1)]\n",
        "daily_average_infections = [x * 0 for x in range(NUM_EXPERIMENTS + 1)]\n",
        "\n",
        "# helper functions\n",
        "def infected_today_or_before(vulnerables_data_old, vulnerables_data_new, num_people):\n",
        "    vulnerables_data_old = [(num_people - x) / num_people for x in vulnerables_data_old]\n",
        "    vulnerables_data_new = [(num_people - x) / num_people for x in vulnerables_data_new]\n",
        "    return [x + y for x, y in zip(vulnerables_data_old, vulnerables_data_new)]\n",
        "\n",
        "def daily_infection_percentage_add(infected_data_old, infected_data_new, num_people):\n",
        "    infected_data_old = [x / num_people for x in infected_data_old]\n",
        "    infected_data_new = [x / num_people for x in infected_data_new]\n",
        "    return [x + y for x, y in zip(infected_data_old, infected_data_new)]"
      ],
      "metadata": {
        "id": "rMJk0orq9DT3"
      },
      "execution_count": null,
      "outputs": []
    },
    {
      "cell_type": "code",
      "source": [
        "# run simulation once for initial variables\n",
        "initial_person_trackers = simulation(NUM_PEOPLE)\n",
        "\n",
        "\n",
        "# Run simulation 99 more times\n",
        "for sim in range(1, NUM_EXPERIMENTS+1):\n",
        "  if (sim) % 10 == 0: \n",
        "    print(f'currently running simulation number {sim} / 100')\n",
        "  person_trackers = simulation(NUM_PEOPLE)\n",
        "\n",
        "  percentage_infected_today_or_before = infected_today_or_before(initial_person_trackers['vulnerables'], \n",
        "                                                                 person_trackers['vulnerables'], \n",
        "                                                                 NUM_PEOPLE)\n",
        "  daily_average_infections = daily_infection_percentage_add(initial_person_trackers['infected'], \n",
        "                                                            person_trackers['infected'], \n",
        "                                                            NUM_PEOPLE)\n",
        "  total_dead_on_day_100 += person_trackers['dead'][-1]\n",
        "  total_recovered_on_day_100 += person_trackers['recovered'][-1]"
      ],
      "metadata": {
        "colab": {
          "base_uri": "https://localhost:8080/"
        },
        "id": "a6qilVBcLBqe",
        "outputId": "2b2cbfb4-8f7a-4709-e691-921d5c837823"
      },
      "execution_count": null,
      "outputs": [
        {
          "output_type": "stream",
          "name": "stdout",
          "text": [
            "currently running simulation number 10 / 100\n",
            "currently running simulation number 20 / 100\n",
            "currently running simulation number 30 / 100\n",
            "currently running simulation number 40 / 100\n",
            "currently running simulation number 50 / 100\n",
            "currently running simulation number 60 / 100\n",
            "currently running simulation number 70 / 100\n",
            "currently running simulation number 80 / 100\n",
            "currently running simulation number 90 / 100\n",
            "currently running simulation number 100 / 100\n"
          ]
        }
      ]
    },
    {
      "cell_type": "markdown",
      "source": [
        "### Part 3 - Draw significant conclusions"
      ],
      "metadata": {
        "id": "l3dyhL2Yd7Pz"
      }
    },
    {
      "cell_type": "markdown",
      "source": [
        "Now that we have 100 samples, we can look at statistics and metrics to draw conclusions from. \n",
        "\n",
        "\n",
        "---\n",
        "\n",
        "\n",
        "Due to the Central Limit Theorom, the averages of these experiments have a normal distribution, meaning that running 100 experiments again won't change the results in a major way, because the results will most likely have a result around the sample mean.\n",
        "\n",
        "In conclusion: we can calculate expected values of a pandemic outcome!"
      ],
      "metadata": {
        "id": "DuZpuEJGaQgv"
      }
    },
    {
      "cell_type": "code",
      "source": [
        "# Percentage of the population being infected today or before\n",
        "prec_infected_today_before = [x / NUM_EXPERIMENTS for x in percentage_infected_today_or_before]\n",
        "plt.plot(prec_infected_today_before)\n",
        "plt.title('Percentage of the population being infected today or before')\n",
        "plt.show()"
      ],
      "metadata": {
        "colab": {
          "base_uri": "https://localhost:8080/",
          "height": 281
        },
        "id": "Sw5Unkb6aMrv",
        "outputId": "a9a979d7-4eeb-4fc2-9447-1bf4d1dda457"
      },
      "execution_count": 90,
      "outputs": [
        {
          "output_type": "display_data",
          "data": {
            "text/plain": [
              "<Figure size 432x288 with 1 Axes>"
            ],
            "image/png": "[encoded data removed]"
          },
          "metadata": {
            "needs_background": "light"
          }
        }
      ]
    },
    {
      "cell_type": "code",
      "source": [
        "# Total percentage of dead vs. recovered people in the population after a year\n",
        "res = total_dead_on_day_100 / total_recovered_on_day_100\n",
        "print(f'{round(res*100, 2)}%')"
      ],
      "metadata": {
        "colab": {
          "base_uri": "https://localhost:8080/"
        },
        "id": "v9jeWB7paouM",
        "outputId": "a8a0eed4-0663-400c-9d5e-91b69be5a7b6"
      },
      "execution_count": 92,
      "outputs": [
        {
          "output_type": "stream",
          "name": "stdout",
          "text": [
            "3.31%\n"
          ]
        }
      ]
    },
    {
      "cell_type": "code",
      "source": [
        "# Used the last of the 100 iterations in calculating new occurrences\n",
        "new_occurences = [j - i for i, j in zip(person_trackers['infected'][:-1], \n",
        "                                        person_trackers['infected'][1:])]\n",
        "for i in range(len(new_occurences)):\n",
        "    if new_occurences[i] < 0:\n",
        "        new_occurences[i] = 0\n",
        "\n",
        "plt.plot(new_occurences)\n",
        "plt.title('The number of new occurrences over time every day')\n",
        "plt.show()"
      ],
      "metadata": {
        "colab": {
          "base_uri": "https://localhost:8080/",
          "height": 281
        },
        "id": "YIkJqOKCa05n",
        "outputId": "5f3e815e-5422-40e7-e03e-9dc433abf5c6"
      },
      "execution_count": 93,
      "outputs": [
        {
          "output_type": "display_data",
          "data": {
            "text/plain": [
              "<Figure size 432x288 with 1 Axes>"
            ],
            "image/png": "[encoded data removed]"
          },
          "metadata": {
            "needs_background": "light"
          }
        }
      ]
    },
    {
      "cell_type": "code",
      "source": [
        "# Percentage of the population infected each day\n",
        "prec_infected_each_day = [x / NUM_EXPERIMENTS for x in daily_average_infections]\n",
        "plt.plot(prec_infected_each_day)\n",
        "plt.title('Percentage of the population infected each day')\n",
        "plt.show()"
      ],
      "metadata": {
        "colab": {
          "base_uri": "https://localhost:8080/",
          "height": 281
        },
        "id": "Xh12pPcGcUOL",
        "outputId": "6cfe8329-f50c-4bf4-d804-20deacefb517"
      },
      "execution_count": 95,
      "outputs": [
        {
          "output_type": "display_data",
          "data": {
            "text/plain": [
              "<Figure size 432x288 with 1 Axes>"
            ],
            "image/png": "[encoded data removed]"
          },
          "metadata": {
            "needs_background": "light"
          }
        }
      ]
    },
    {
      "cell_type": "markdown",
      "source": [
        "#### To conclude: Monte Carlo is a powerful technique we can use to calculate expected values of a mathematical process which has a randomness factor."
      ],
      "metadata": {
        "id": "9Uz6MMjdc0YI"
      }
    }
  ]
}